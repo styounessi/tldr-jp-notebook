{
 "cells": [
  {
   "cell_type": "markdown",
   "id": "0d1a6568-7ce1-4026-969e-c970a6f3de0f",
   "metadata": {},
   "source": [
    "<h1 align=\"center\">\n",
    "Too Long; Didn't Read ¯\\_(ツ)_/¯\n",
    "</h1>\n",
    "\n",
    "This interactive notebook uses 🤗 Hugging Face Transformers & BART (Bayesian Additive Regression Trees) to generate summaries from inputted text. To live up to this notebook's theme (tl;dr) I will end the description there."
   ]
  },
  {
   "cell_type": "code",
   "execution_count": 1,
   "id": "8a5dd47a-a47e-4246-8ee7-96b387e2fc5c",
   "metadata": {},
   "outputs": [],
   "source": [
    "# Import necessary libraries\n",
    "import ipywidgets as widgets\n",
    "from IPython.display import display, clear_output\n",
    "from transformers import AutoTokenizer, AutoModelForSeq2SeqLM\n",
    "\n",
    "# Suppressing any warnings for this notebook but generally not needed or advised\n",
    "import warnings\n",
    "warnings.filterwarnings('ignore', category=UserWarning)"
   ]
  },
  {
   "cell_type": "code",
   "execution_count": 2,
   "id": "118753f6-89e9-4865-b9b2-61c04388f99d",
   "metadata": {},
   "outputs": [],
   "source": [
    "# Load BART model and tokenizer\n",
    "tokenizer = AutoTokenizer.from_pretrained('facebook/bart-large-cnn')\n",
    "model = AutoModelForSeq2SeqLM.from_pretrained('facebook/bart-large-cnn')"
   ]
  },
  {
   "cell_type": "code",
   "execution_count": 3,
   "id": "2b0a1b40-9b2c-4dfe-8976-a646802d5ee3",
   "metadata": {},
   "outputs": [
    {
     "data": {
      "application/vnd.jupyter.widget-view+json": {
       "model_id": "01fe2c2a51674ccca5a61d90a872d5f0",
       "version_major": 2,
       "version_minor": 0
      },
      "text/plain": [
       "HBox(children=(Textarea(value='', layout=Layout(height='500px', width='750px'), placeholder='Enter or paste te…"
      ]
     },
     "metadata": {},
     "output_type": "display_data"
    }
   ],
   "source": [
    "MINIMUM_INPUT_CHARS = 500\n",
    "\n",
    "# Extract text from text box\n",
    "def extract_text(text):\n",
    "    return text\n",
    "\n",
    "# Generate summary after tokenizing text \n",
    "def generate_summary(content):\n",
    "    inputs = tokenizer.encode(\n",
    "        content,\n",
    "        truncation=True,\n",
    "        return_tensors='pt',\n",
    "        max_length=tokenizer.model_max_length,\n",
    "    )\n",
    "\n",
    "    summary_ids = model.generate(\n",
    "        inputs,\n",
    "        num_beams=5,\n",
    "        max_length=100,\n",
    "        length_penalty=2.0,\n",
    "        early_stopping=True\n",
    "    )\n",
    "\n",
    "    summary = tokenizer.decode(\n",
    "        summary_ids[0],\n",
    "        skip_special_tokens=True,\n",
    "        clean_up_tokenization_spaces=False\n",
    "    )\n",
    "    return summary\n",
    "\n",
    "# Clear the output when changes occur in the input text box and display\n",
    "# a loading spinner while the text is being analyzed\n",
    "def update_output(content):\n",
    "    with output:\n",
    "        clear_output(wait=True)\n",
    "        content = extract_text(text_box.value)\n",
    "\n",
    "        if content and len(content) >= MINIMUM_INPUT_CHARS:\n",
    "            loading_spinner = widgets.HTML(\n",
    "                f'<div style=\"display: flex; justify-content: center;\"> \\\n",
    "                  <i class=\"fa fa-spinner fa-pulse fa-3x fa-fw\"></i></div>'\n",
    "            )\n",
    "            display(loading_spinner)\n",
    "            summary = generate_summary(content)\n",
    "            clear_output(wait=True)\n",
    "            print('Summary:\\n\\n', summary)\n",
    "\n",
    "        elif content:\n",
    "            clear_output(wait=True)\n",
    "            print('The text entered is too short for effective summarization. '\n",
    "                  'Please enter text that is at least 500 characters or more in length.')\n",
    "\n",
    "# Use to clear summary output box when the cell is loaded/re-loaded\n",
    "def clear_output_summary():\n",
    "    with output:\n",
    "        clear_output(wait=False)\n",
    "\n",
    "# Create text input box\n",
    "text_box = widgets.Textarea(\n",
    "    placeholder='Enter or paste text here...',\n",
    "    layout={'height': '500px',\n",
    "            'width': '750px'}\n",
    "    )\n",
    "\n",
    "# Create output box to show the summary\n",
    "output = widgets.Output(\n",
    "    layout={'border': '2px dashed black',\n",
    "            'height': '500px',\n",
    "            'width': '750px'}\n",
    "    )\n",
    "\n",
    "# Observer updates the output when a change occurs in input text\n",
    "text_box.observe(update_output, names='value')\n",
    "\n",
    "# Horizontal side-by-side ouput cell layout\n",
    "cell_layout = widgets.HBox([text_box, output])\n",
    "\n",
    "display(cell_layout)\n",
    "clear_output_summary()"
   ]
  }
 ],
 "metadata": {
  "kernelspec": {
   "display_name": "Python 3 (ipykernel)",
   "language": "python",
   "name": "python3"
  },
  "language_info": {
   "codemirror_mode": {
    "name": "ipython",
    "version": 3
   },
   "file_extension": ".py",
   "mimetype": "text/x-python",
   "name": "python",
   "nbconvert_exporter": "python",
   "pygments_lexer": "ipython3",
   "version": "3.11.3"
  }
 },
 "nbformat": 4,
 "nbformat_minor": 5
}
